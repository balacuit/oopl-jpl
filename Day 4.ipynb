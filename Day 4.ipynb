{
 "cells": [
  {
   "cell_type": "markdown",
   "metadata": {
    "deletable": true,
    "editable": true
   },
   "source": [
    "# Day 4"
   ]
  },
  {
   "cell_type": "markdown",
   "metadata": {
    "deletable": true,
    "editable": true
   },
   "source": [
    "## Quiz #6"
   ]
  },
  {
   "cell_type": "code",
   "execution_count": 1,
   "metadata": {
    "collapsed": false,
    "deletable": true,
    "editable": true
   },
   "outputs": [
    {
     "name": "stdout",
     "output_type": "stream",
     "text": [
      "[2, 3, 4] [2, 3, 4] True\n"
     ]
    }
   ],
   "source": [
    "def f () :\n",
    "    yield 2\n",
    "    yield 3\n",
    "    yield 4\n",
    "\n",
    "print(list(f()), end=\" \")\n",
    "print(list(f()), end=\" \")\n",
    "p = f()\n",
    "print(p is iter(p))"
   ]
  },
  {
   "cell_type": "code",
   "execution_count": 2,
   "metadata": {
    "collapsed": false,
    "deletable": true,
    "editable": true
   },
   "outputs": [
    {
     "name": "stdout",
     "output_type": "stream",
     "text": [
      "[3, 4, 5] [3, 4, 5]\n"
     ]
    }
   ],
   "source": [
    "def g (b, e) :\n",
    "    while b != e :\n",
    "        b += 1\n",
    "        yield b\n",
    "\n",
    "print(list(g(2, 5)), end=\" \")\n",
    "print(list(g(2, 5)))"
   ]
  },
  {
   "cell_type": "code",
   "execution_count": 3,
   "metadata": {
    "collapsed": false,
    "deletable": true,
    "editable": true
   },
   "outputs": [
    {
     "name": "stdout",
     "output_type": "stream",
     "text": [
      "[2, 3, 4] [] False\n"
     ]
    }
   ],
   "source": [
    "class A :\n",
    "    def __init__ (self, b, e) :\n",
    "        self.b = b\n",
    "        self.e = e\n",
    "\n",
    "    def __iter__ (self) :\n",
    "        while self.b != self.e :\n",
    "            yield self.b\n",
    "            self.b += 1\n",
    "\n",
    "x = A(2, 5)\n",
    "print(list(x), end=\" \")\n",
    "print(list(x), end=\" \")\n",
    "print(x is iter(x))"
   ]
  },
  {
   "cell_type": "code",
   "execution_count": null,
   "metadata": {
    "collapsed": true,
    "deletable": true,
    "editable": true
   },
   "outputs": [],
   "source": []
  }
 ],
 "metadata": {
  "kernelspec": {
   "display_name": "Python 3",
   "language": "python",
   "name": "python3"
  },
  "language_info": {
   "codemirror_mode": {
    "name": "ipython",
    "version": 3
   },
   "file_extension": ".py",
   "mimetype": "text/x-python",
   "name": "python",
   "nbconvert_exporter": "python",
   "pygments_lexer": "ipython3",
   "version": "3.5.3"
  }
 },
 "nbformat": 4,
 "nbformat_minor": 2
}
