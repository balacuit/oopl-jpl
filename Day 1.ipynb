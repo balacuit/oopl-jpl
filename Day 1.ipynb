{
 "cells": [
  {
   "cell_type": "code",
   "execution_count": null,
   "metadata": {},
   "outputs": [],
   "source": [
    "def cycle_length(n:int) -> int:\n",
    "    assert n > 0\n",
    "    \n",
    "    return n"
   ]
  },
  {
   "cell_type": "code",
   "execution_count": 2,
   "metadata": {},
   "outputs": [
    {
     "data": {
      "text/plain": [
       "5"
      ]
     },
     "execution_count": 2,
     "output_type": "execute_result",
     "metadata": {}
    }
   ],
   "source": [
    "cycle_length(5)"
   ]
  },
  {
   "cell_type": "markdown",
   "metadata": {},
   "source": [
    "After Break"
   ]
  },
  {
   "cell_type": "code",
   "execution_count": 3,
   "metadata": {},
   "outputs": [],
   "source": [
    "class A :\n",
    "    t = 5\n",
    "\n",
    "    def __init__(self, n) :\n",
    "        self.x = n\n",
    "        \n",
    "    def f (self, y) :\n",
    "        return self.x * y\n",
    "    \n",
    "    def f (self, y, z) :\n",
    "        return self.x * y * z\n",
    "\n",
    "    @staticmethod\n",
    "    def g(x) :\n",
    "        return x**2"
   ]
  },
  {
   "cell_type": "code",
   "execution_count": 4,
   "metadata": {},
   "outputs": [],
   "source": [
    "m = A(3)"
   ]
  },
  {
   "cell_type": "code",
   "execution_count": 5,
   "metadata": {},
   "outputs": [
    {
     "data": {
      "text/plain": [
       "18"
      ]
     },
     "execution_count": 5,
     "output_type": "execute_result",
     "metadata": {}
    }
   ],
   "source": [
    "m.f(2,3)"
   ]
  },
  {
   "cell_type": "markdown",
   "metadata": {},
   "source": [
    "First exercise, IsPrime1\n",
    "\n",
    "1. run it as is, confirm success\n",
    "\n",
    "2. identify the broken tests\n",
    " - fix test\n",
    " - run it, confirm failures\n",
    " \n",
    "3. identify the broken code\n",
    " - fix code\n",
    " - run it, confirm failures"
   ]
  },
  {
   "cell_type": "code",
   "execution_count": 6,
   "metadata": {},
   "outputs": [],
   "source": [
    "# %load exercises/IsPrime1.py\n",
    "#!/usr/bin/env python3\n",
    "\n",
    "# pylint: disable = bad-whitespace\n",
    "# pylint: disable = invalid-name\n",
    "# pylint: disable = missing-docstring\n",
    "\n",
    "# -----------\n",
    "# IsPrime1.py\n",
    "# -----------\n",
    "\n",
    "from math import sqrt\n",
    "\n",
    "def is_prime (n: int) -> int :\n",
    "    assert n > 0\n",
    "    if (n == 1) or ((n % 2) == 0) :\n",
    "        return False\n",
    "    for i in range(3, int(sqrt(n))) :\n",
    "        if (n % i) == 0 :\n",
    "            return False\n",
    "    return True"
   ]
  },
  {
   "cell_type": "code",
   "execution_count": 7,
   "metadata": {},
   "outputs": [
    {
     "data": {
      "text/plain": [
       "False"
      ]
     },
     "execution_count": 7,
     "output_type": "execute_result",
     "metadata": {}
    }
   ],
   "source": [
    "is_prime(2)"
   ]
  },
  {
   "cell_type": "code",
   "execution_count": 8,
   "metadata": {},
   "outputs": [
    {
     "name": "stderr",
     "output_type": "stream",
     "text": [
      "E\n",
      "======================================================================\n",
      "ERROR: /Users/balacuit/Library/Jupyter/runtime/kernel-c411666a-5390-4814-8dc4-b8e0abcc5b0d (unittest.loader._FailedTest)\n",
      "----------------------------------------------------------------------\n",
      "AttributeError: module '__main__' has no attribute '/Users/balacuit/Library/Jupyter/runtime/kernel-c411666a-5390-4814-8dc4-b8e0abcc5b0d'\n",
      "\n",
      "----------------------------------------------------------------------\n",
      "Ran 1 test in 0.001s\n",
      "\n",
      "FAILED (errors=1)\n"
     ]
    },
    {
     "ename": "SystemExit",
     "evalue": "True",
     "output_type": "error",
     "traceback": [
      "An exception has occurred, use %tb to see the full traceback.\n",
      "\u001b[0;31mSystemExit\u001b[0m\u001b[0;31m:\u001b[0m True\n"
     ]
    },
    {
     "name": "stderr",
     "output_type": "stream",
     "text": [
      "/Users/balacuit/.virtualenvs/oopl/lib/python3.5/site-packages/IPython/core/interactiveshell.py:2889: UserWarning: To exit: use 'exit', 'quit', or Ctrl-D.\n",
      "  warn(\"To exit: use 'exit', 'quit', or Ctrl-D.\", stacklevel=1)\n"
     ]
    }
   ],
   "source": [
    "# %load exercises/IsPrime1T.py\n",
    "#!/usr/bin/env python3\n",
    "\n",
    "# pylint: disable = bad-whitespace\n",
    "# pylint: disable = invalid-name\n",
    "# pylint: disable = missing-docstring\n",
    "# pylint: disable = pointless-string-statement\n",
    "\n",
    "# ------------\n",
    "# IsPrime1T.py\n",
    "# ------------\n",
    "\n",
    "# https://en.wikipedia.org/wiki/Primality_test\n",
    "\n",
    "from unittest import main, TestCase\n",
    "\n",
    "from exercises.IsPrime1 import is_prime\n",
    "\n",
    "class MyUnitTests (TestCase) :\n",
    "    def test_01 (self) :\n",
    "        self.assertFalse(is_prime(1))\n",
    "\n",
    "    def test_02 (self) :\n",
    "        self.assertFalse(is_prime(2))\n",
    "\n",
    "    def test_03 (self) :\n",
    "        self.assertTrue(is_prime(3))\n",
    "\n",
    "    def test_04 (self) :\n",
    "        self.assertFalse(is_prime(4))\n",
    "\n",
    "    def test_05 (self) :\n",
    "        self.assertTrue(is_prime(5))\n",
    "\n",
    "    def test_07 (self) :\n",
    "        self.assertTrue(is_prime(7))\n",
    "\n",
    "    def test_09 (self) :\n",
    "        self.assertTrue(is_prime(9))\n",
    "\n",
    "    def test_27 (self) :\n",
    "        self.assertFalse(is_prime(27))\n",
    "\n",
    "    def test_29 (self) :\n",
    "        self.assertTrue(is_prime(29))\n",
    "\n",
    "if __name__ == \"__main__\" :\n",
    "    main()\n",
    "\n",
    "\"\"\" #pragma: no cover\n",
    "% coverage-3.5 run --branch IsPrime1T.py\n",
    ".........\n",
    "----------------------------------------------------------------------\n",
    "Ran 9 tests in 0.001s\n",
    "\n",
    "OK\n",
    "\n",
    "\n",
    "\n",
    "% coverage-3.5 report -m\n",
    "Name           Stmts   Miss Branch BrPart  Cover   Missing\n",
    "----------------------------------------------------------\n",
    "IsPrime1.py        9      0      6      0   100%\n",
    "IsPrime1T.py      23      0      0      0   100%\n",
    "----------------------------------------------------------\n",
    "TOTAL             32      0      6      0   100%\n",
    "\"\"\""
   ]
  },
  {
   "cell_type": "code",
   "execution_count": null,
   "metadata": {},
   "outputs": [],
   "source": [
    "def f() :\n",
    "    if (False) :\n",
    "        raise Tiger()\n",
    "\n",
    "def g() :"
   ]
  },
  {
   "cell_type": "code",
   "execution_count": 27,
   "metadata": {},
   "outputs": [
    {
     "name": "stdout",
     "output_type": "stream",
     "text": [
      "<class 'int'>\n"
     ]
    }
   ],
   "source": [
    "x = list()\n",
    "x = 2\n",
    "print(type(x))"
   ]
  },
  {
   "cell_type": "code",
   "execution_count": 30,
   "metadata": {},
   "outputs": [
    {
     "data": {
      "text/plain": [
       "True"
      ]
     },
     "execution_count": 30,
     "output_type": "execute_result",
     "metadata": {}
    }
   ],
   "source": [
    "bool(list)"
   ]
  }
 ],
 "metadata": {
  "kernelspec": {
   "display_name": "Python 3",
   "language": "python",
   "name": "python3"
  },
  "language_info": {
   "codemirror_mode": {
    "name": "ipython",
    "version": 3.0
   },
   "file_extension": ".py",
   "mimetype": "text/x-python",
   "name": "python",
   "nbconvert_exporter": "python",
   "pygments_lexer": "ipython3",
   "version": "3.5.3"
  }
 },
 "nbformat": 4,
 "nbformat_minor": 2
}